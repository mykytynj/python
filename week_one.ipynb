{
  "nbformat": 4,
  "nbformat_minor": 0,
  "metadata": {
    "colab": {
      "name": "week_one.ipynb",
      "provenance": [],
      "authorship_tag": "ABX9TyMK95Uk0iYtX7Slz7fh6uCC",
      "include_colab_link": true
    },
    "kernelspec": {
      "name": "python3",
      "display_name": "Python 3"
    },
    "language_info": {
      "name": "python"
    }
  },
  "cells": [
    {
      "cell_type": "markdown",
      "metadata": {
        "id": "view-in-github",
        "colab_type": "text"
      },
      "source": [
        "<a href=\"https://colab.research.google.com/github/mykytynj/python/blob/main/week_one.ipynb\" target=\"_parent\"><img src=\"https://colab.research.google.com/assets/colab-badge.svg\" alt=\"Open In Colab\"/></a>"
      ]
    },
    {
      "cell_type": "code",
      "metadata": {
        "colab": {
          "base_uri": "https://localhost:8080/"
        },
        "id": "11LEdE4mP9SJ",
        "outputId": "a4c29528-84cd-4a75-ea4c-85690368b066"
      },
      "source": [
        "import requests\n",
        "\n",
        "response = requests.get('https://uselessfacts.jsph.pl/random.json?language=en')\n",
        "\n",
        "print(response.text)"
      ],
      "execution_count": null,
      "outputs": [
        {
          "output_type": "stream",
          "text": [
            "{\"id\":\"166a345d-e8f5-4a86-add4-40a8db58bd62\",\"text\":\"Facetious and abstemious contain all the vowels in the correct order, as does arsenious, meaning \\\"containing arsenic.\\\" \\u00a0\",\"source\":\"djtech.net\",\"source_url\":\"http:\\/\\/www.djtech.net\\/humor\\/useless_facts.htm\",\"language\":\"en\",\"permalink\":\"https:\\/\\/uselessfacts.jsph.pl\\/166a345d-e8f5-4a86-add4-40a8db58bd62\"}\n"
          ],
          "name": "stdout"
        }
      ]
    },
    {
      "cell_type": "code",
      "metadata": {
        "colab": {
          "base_uri": "https://localhost:8080/"
        },
        "id": "q7Kph2tIV6ei",
        "outputId": "eaf1db68-a114-4c4f-834a-7fe9c6d88a87"
      },
      "source": [
        "query_parameters = {\n",
        "    'language':'en'\n",
        "}\n",
        "\n",
        "response = requests.get('https://uselessfacts.jsph.pl/random.json', params=query_parameters)\n",
        "\n",
        "print(response.json().get('text'))"
      ],
      "execution_count": null,
      "outputs": [
        {
          "output_type": "stream",
          "text": [
            "Los Angeles` full name `El Pueblo de Nuestra Senora la Reina de Los Angeles de Porciuncula` is reduced to 3.63% of its size in the abbreviation `L.A.`.\n"
          ],
          "name": "stdout"
        }
      ]
    },
    {
      "cell_type": "markdown",
      "metadata": {
        "id": "uv0D4ZHG7eYy"
      },
      "source": [
        "# Data Structure\n",
        "The important ones are **list**, dictionary, and sets"
      ]
    },
    {
      "cell_type": "code",
      "metadata": {
        "colab": {
          "base_uri": "https://localhost:8080/"
        },
        "id": "Z6ED0cUvza3l",
        "outputId": "deca8b32-a533-4225-b0b0-1d483143a92e"
      },
      "source": [
        "data = ['James','You']\n",
        "print(data[1])\n",
        "\n",
        "data.append('Jimmy')\n",
        "data.append(['hello'])\n",
        "data.append(5)\n",
        "\n",
        "print(data)"
      ],
      "execution_count": null,
      "outputs": [
        {
          "output_type": "stream",
          "text": [
            "You\n",
            "['James', 'You', 'Jimmy', ['hello'], 5]\n"
          ],
          "name": "stdout"
        }
      ]
    },
    {
      "cell_type": "markdown",
      "metadata": {
        "id": "9460m07x9WCm"
      },
      "source": [
        "## List Slicing\n",
        "first number - starting position (inclusive).  \n",
        "second number - stopping position (exclusive).  \n",
        "third number - step.  "
      ]
    },
    {
      "cell_type": "code",
      "metadata": {
        "colab": {
          "base_uri": "https://localhost:8080/"
        },
        "id": "-c6wppOF8slk",
        "outputId": "410c6b4f-1a4f-4c81-b8a2-f77caefbb007"
      },
      "source": [
        "data = ['James','Dana','Casey','Brett']\n",
        "\n",
        "print(data[1:4:2])"
      ],
      "execution_count": null,
      "outputs": [
        {
          "output_type": "stream",
          "text": [
            "['Dana', 'Brett']\n"
          ],
          "name": "stdout"
        }
      ]
    },
    {
      "cell_type": "markdown",
      "metadata": {
        "id": "MPtusMw--Ac2"
      },
      "source": [
        "## Dictionaries and Sets"
      ]
    },
    {
      "cell_type": "code",
      "metadata": {
        "colab": {
          "base_uri": "https://localhost:8080/"
        },
        "id": "ajQZaCSQ-D32",
        "outputId": "13340417-df8e-499d-dab8-9be1a7537840"
      },
      "source": [
        "data = {'James','Dana','Casey','Brett','James'}\n",
        "\n",
        "data_dictionary = {\n",
        "    'James': 5,\n",
        "    'Dana': 10,\n",
        "    'Casey': 12,\n",
        "    'Brett': 15,\n",
        "    'James': 20\n",
        "}\n",
        "\n",
        "print (data_dictionary)\n",
        "\n",
        "print (data)\n",
        "\n",
        "print(data_dictionary.get('James'))"
      ],
      "execution_count": null,
      "outputs": [
        {
          "output_type": "stream",
          "text": [
            "{'James': 20, 'Dana': 10, 'Casey': 12, 'Brett': 15}\n",
            "{'Brett', 'James', 'Casey', 'Dana'}\n",
            "20\n"
          ],
          "name": "stdout"
        }
      ]
    },
    {
      "cell_type": "markdown",
      "metadata": {
        "id": "QUau0CiD_KWj"
      },
      "source": [
        "# Control Flow - Loops and Conditionals\n",
        "Iteration - One time through the loop. "
      ]
    },
    {
      "cell_type": "code",
      "metadata": {
        "colab": {
          "base_uri": "https://localhost:8080/"
        },
        "id": "CCB-X-Ov_U-V",
        "outputId": "eb1983a4-6393-4892-9b6f-608029295ede"
      },
      "source": [
        "data = ['a','b','c','d','e']\n",
        "\n",
        "for i in range(10):\n",
        "  print(i, end=' ')\n",
        "\n",
        "print('')\n",
        "#data = {'James','Dana','Casey','Brett','James'}\n",
        "\n",
        "for letter in data:\n",
        "  print(letter, end=' ')\n",
        "\n",
        "print(' ')\n",
        "\n",
        "for i,letter in enumerate(data): \n",
        "  print(i,letter, end=' ')"
      ],
      "execution_count": null,
      "outputs": [
        {
          "output_type": "stream",
          "text": [
            "0 1 2 3 4 5 6 7 8 9 \n",
            "a b c d e  \n",
            "0 a 1 b 2 c 3 d 4 e "
          ],
          "name": "stdout"
        }
      ]
    },
    {
      "cell_type": "code",
      "metadata": {
        "colab": {
          "base_uri": "https://localhost:8080/"
        },
        "id": "n5Ohp9KEB3Q1",
        "outputId": "8e5630dd-c4d2-454f-b6f7-137bdc99574b"
      },
      "source": [
        "data = ['a','b','c','d','e']\n",
        "\n",
        "i = 0\n",
        "\n",
        "while i < len(data):\n",
        "  print(data[i], end = ' ')\n",
        "  i += 1\n",
        "\n",
        "while True:\n",
        "  x=input()\n",
        "  if x == 'stop':\n",
        "      break\n",
        "  elif x == 'special':\n",
        "    continue\n",
        "  else:\n",
        "    print(\"it wasn't stop or special\")\n",
        "  print('printing data...')\n",
        "\n"
      ],
      "execution_count": null,
      "outputs": [
        {
          "output_type": "stream",
          "text": [
            "a b c d e special\n",
            "anything\n",
            "it wasn't stop or special\n",
            "printing data...\n",
            "stop\n"
          ],
          "name": "stdout"
        }
      ]
    },
    {
      "cell_type": "code",
      "metadata": {
        "colab": {
          "base_uri": "https://localhost:8080/"
        },
        "id": "pNe1I14eEvr1",
        "outputId": "1c24282d-55db-4d8f-92a3-c98c27fef608"
      },
      "source": [
        "data_dictionary = {\n",
        "    'James': 5,\n",
        "    'Dana': 10,\n",
        "    'Casey': 12,\n",
        "    'Brett': 15,\n",
        "    'James': 20\n",
        "}\n",
        "\n",
        "for key, value in data_dictionary.items():\n",
        "  if value ==12:\n",
        "    print('we found 12')\n",
        "    break\n",
        "  print (key,value)"
      ],
      "execution_count": null,
      "outputs": [
        {
          "output_type": "stream",
          "text": [
            "James 20\n",
            "Dana 10\n",
            "we found 12\n"
          ],
          "name": "stdout"
        }
      ]
    },
    {
      "cell_type": "markdown",
      "metadata": {
        "id": "8v4GI3wKghj3"
      },
      "source": [
        "#Guessing game\n",
        "Generate a random number - random module \n",
        "\n",
        "do while - Python doesn't have this build in  \n",
        "do something once --possible repeat it.  \n",
        "Ask us for a number. If we get it wrong, ask again.  \n",
        "\n",
        "logice for right/wrong:guessed == correct value\n",
        "\n"
      ]
    },
    {
      "cell_type": "code",
      "metadata": {
        "colab": {
          "base_uri": "https://localhost:8080/"
        },
        "id": "sRrdR9n0hIsM",
        "outputId": "b4794684-bb0c-430d-82e7-f77f92efa823"
      },
      "source": [
        "# import random\n",
        "\n",
        "# print(random.randint(0,10))\n",
        "\n",
        "from random import randint\n",
        "\n",
        "print('how high of a number do you want?') \n",
        "top_level=int(input())\n",
        "low = 0\n",
        "high = top_level\n",
        "correct = randint(low,high)\n",
        "#print(correct)\n",
        "print(f'Try guessing between {low} and {high} ...')\n",
        "while True:\n",
        "  guess = int(input())\n",
        "  #do something\n",
        "  # check to see if we should do it again\n",
        "\n",
        "  if guess < correct:\n",
        "    print('your too low, dipshit')\n",
        "  elif guess > correct:\n",
        "    print('your too high')\n",
        "  else:\n",
        "    print('you win asshole')\n",
        "    break\n",
        "    \n"
      ],
      "execution_count": null,
      "outputs": [
        {
          "output_type": "stream",
          "text": [
            "how high of a number do you want?\n",
            "Try guessing between 0 and 10002 ...\n"
          ],
          "name": "stdout"
        }
      ]
    }
  ]
}